{
 "cells": [
  {
   "cell_type": "markdown",
   "metadata": {},
   "source": [
    "# Object Detection in Open CV\n"
   ]
  },
  {
   "cell_type": "markdown",
   "metadata": {},
   "source": [
    "The goals for this notebook:\n",
    "\n",
    "- Detect an object in a camera image\n",
    "- Detect the same object in both stereo images\n",
    "- Given some parameters about the distance between cameras, etc. \n",
    "\n",
    "    - Find the field of view of a camera\n",
    "    - Determine what the distance is to the object\n",
    "    - Find the angle to the object\n",
    "\n",
    "- Detect the same object in a lidar image\n",
    "- Get the distance from the lidar points and work out the calibration for the stereo cameras"
   ]
  },
  {
   "cell_type": "code",
   "execution_count": null,
   "metadata": {},
   "outputs": [],
   "source": [
    "import cv2\n",
    "import pykitti\n",
    "import GetPyKitti\n",
    "import numpy as np\n",
    "import matplotlib.pyplot as plt"
   ]
  },
  {
   "cell_type": "code",
   "execution_count": null,
   "metadata": {},
   "outputs": [],
   "source": []
  },
  {
   "cell_type": "markdown",
   "metadata": {},
   "source": [
    "## Object detection in a camera image with OpenCV\n",
    "\n",
    "How to find an object in OpenCV"
   ]
  },
  {
   "cell_type": "code",
   "execution_count": 25,
   "metadata": {},
   "outputs": [],
   "source": []
  },
  {
   "cell_type": "code",
   "execution_count": 10,
   "metadata": {},
   "outputs": [],
   "source": [
    "# GetPyKitti.getPyKittiData()\n",
    "\n",
    "\n",
    "\n",
    "    # basedir = r\"../Datasets/KITTI_cvlibs/2011_09_26_drive_0001\"\n",
    "basedir = r\"/media/LinData/Datasets/KITTI_cvlibs/2011_09_26_drive_0001\"\n",
    "date = '2011_09_26'\n",
    "drive = '0001'\n",
    "data= pykitti.raw(basedir, date, drive, frames=range(0, 50, 5))"
   ]
  },
  {
   "cell_type": "markdown",
   "metadata": {},
   "source": [
    "Now the images we want are in the variable data\n",
    "\n",
    "\n",
    "Camera0 is a grayscale camera. This will be used first for object detection\n",
    "\n"
   ]
  },
  {
   "cell_type": "code",
   "execution_count": 21,
   "metadata": {},
   "outputs": [],
   "source": [
    "tst_img = data.get_cam0(5)\n",
    "\n",
    "img_np = np.array(tst_img)\n",
    "img_cv2 = cv2.cvtColor(img_np, cv2.COLOR_RGB2BGR)\n"
   ]
  },
  {
   "cell_type": "code",
   "execution_count": null,
   "metadata": {},
   "outputs": [],
   "source": [
    "cv2.imshow(\"blurred img\",cv2.blur(src=img_cv2, ksize=(2,2)))\n",
    "cv2.waitKey(0) # waits until a key is pressed\n",
    "cv2.destroyAllWindows() # destroys the window showing image"
   ]
  },
  {
   "cell_type": "code",
   "execution_count": null,
   "metadata": {},
   "outputs": [],
   "source": []
  }
 ],
 "metadata": {
  "kernelspec": {
   "display_name": "Python 3",
   "language": "python",
   "name": "python3"
  },
  "language_info": {
   "codemirror_mode": {
    "name": "ipython",
    "version": 3
   },
   "file_extension": ".py",
   "mimetype": "text/x-python",
   "name": "python",
   "nbconvert_exporter": "python",
   "pygments_lexer": "ipython3",
   "version": "3.8.3"
  }
 },
 "nbformat": 4,
 "nbformat_minor": 4
}
