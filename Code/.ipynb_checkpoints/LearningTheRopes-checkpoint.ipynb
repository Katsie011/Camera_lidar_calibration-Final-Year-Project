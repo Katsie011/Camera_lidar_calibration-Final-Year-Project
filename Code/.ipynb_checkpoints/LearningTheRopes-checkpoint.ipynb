{
 "cells": [
  {
   "cell_type": "code",
   "execution_count": 26,
   "metadata": {},
   "outputs": [],
   "source": [
    "import open3d as o3d\n",
    "import cv2 as ocv\n",
    "import os\n",
    "\n",
    "\n",
    "\n",
    "\n",
    "# Importing a python kitti toolbox from https://github.com/utiasSTARS/pykitti\n",
    "import pykitti"
   ]
  },
  {
   "cell_type": "code",
   "execution_count": 19,
   "metadata": {
    "tags": []
   },
   "outputs": [
    {
     "name": "stdout",
     "output_type": "stream",
     "text": [
      "['KITTI_cvlibs', 'ScemanticKITTI']\n",
      "['2011_09_26_drive_0001']\n",
      "['2011_09_26_calib', '2011_09_26_drive_0001_extract', '2011_09_26_drive_0001_sync', '2011_09_26_drive_0001_tracklets']\n",
      "['2011_09_26']\n",
      "[]\n",
      "['2011_09_26']\n",
      "['2011_09_26_drive_0001_extract']\n",
      "['image_01', 'image_02', 'image_00', 'velodyne_points', 'oxts', 'image_03']\n",
      "['data']\n",
      "[]\n",
      "['data']\n",
      "[]\n",
      "['data']\n",
      "[]\n",
      "['data']\n",
      "[]\n",
      "['data']\n",
      "[]\n",
      "['data']\n",
      "[]\n",
      "['2011_09_26']\n",
      "['2011_09_26_drive_0001_sync']\n",
      "['image_01', 'image_02', 'image_00', 'velodyne_points', 'oxts', 'image_03']\n",
      "['data']\n",
      "[]\n",
      "['data']\n",
      "[]\n",
      "['data']\n",
      "[]\n",
      "['data']\n",
      "[]\n",
      "['data']\n",
      "[]\n",
      "['data']\n",
      "[]\n",
      "['2011_09_26']\n",
      "['2011_09_26_drive_0001_sync']\n",
      "[]\n",
      "['dataset']\n",
      "['sequences']\n",
      "['10', '06', '12', '07', '15', '02', '18', '20', '13', '03', '19', '05', '04', '17', '08', '11', '21', '00', '09', '16', '14', '01']\n",
      "['labels']\n",
      "[]\n",
      "['labels']\n",
      "[]\n",
      "[]\n",
      "['labels']\n",
      "[]\n",
      "[]\n",
      "['labels']\n",
      "[]\n",
      "[]\n",
      "[]\n",
      "[]\n",
      "['labels']\n",
      "[]\n",
      "[]\n",
      "['labels']\n",
      "[]\n",
      "['labels']\n",
      "[]\n",
      "[]\n",
      "['labels']\n",
      "[]\n",
      "[]\n",
      "[]\n",
      "['labels']\n",
      "[]\n",
      "['labels']\n",
      "[]\n",
      "[]\n",
      "[]\n",
      "['labels']\n",
      "[]\n"
     ]
    }
   ],
   "source": [
    "codeDir = os.getcwd()\n",
    "baseDir = (currentPath[:currentPath.find(\"Code\")])\n",
    "dataDir = baseDir+ r\"\\Datasets\"\n",
    "for (dirpath, dirnames, filenames) in os.walk(folderPath+r\"/Datasets\"):\n",
    "    print(dirnames)\n"
   ]
  },
  {
   "cell_type": "code",
   "execution_count": 1,
   "metadata": {
    "tags": []
   },
   "outputs": [
    {
     "ename": "NameError",
     "evalue": "name 'o3d' is not defined",
     "output_type": "error",
     "traceback": [
      "\u001b[0;31m---------------------------------------------------------------------------\u001b[0m",
      "\u001b[0;31mNameError\u001b[0m                                 Traceback (most recent call last)",
      "\u001b[0;32m<ipython-input-1-7f7771e56c18>\u001b[0m in \u001b[0;36m<module>\u001b[0;34m\u001b[0m\n\u001b[1;32m      1\u001b[0m \u001b[0mpathToKITTI0001\u001b[0m \u001b[0;34m=\u001b[0m \u001b[0;34mr\"../Datasets/KITTI_cvlibs/2011_09_26_drive_0001/2011_09_26_drive_0001_sync/2011_09_26/2011_09_26_drive_0001_sync/velodyne_points/data/0000000000.bin \"\u001b[0m\u001b[0;34m\u001b[0m\u001b[0;34m\u001b[0m\u001b[0m\n\u001b[1;32m      2\u001b[0m \u001b[0;34m\u001b[0m\u001b[0m\n\u001b[0;32m----> 3\u001b[0;31m \u001b[0mpcd\u001b[0m \u001b[0;34m=\u001b[0m \u001b[0mo3d\u001b[0m\u001b[0;34m.\u001b[0m\u001b[0mio\u001b[0m\u001b[0;34m.\u001b[0m\u001b[0mread_point_cloud\u001b[0m\u001b[0;34m(\u001b[0m\u001b[0mpathToKITTI000\u001b[0m\u001b[0;34m)\u001b[0m\u001b[0;34m\u001b[0m\u001b[0;34m\u001b[0m\u001b[0m\n\u001b[0m",
      "\u001b[0;31mNameError\u001b[0m: name 'o3d' is not defined"
     ]
    }
   ],
   "source": [
    "pathToKITTI0001 = r\"../Datasets/KITTI_cvlibs/2011_09_26_drive_0001/2011_09_26_drive_0001_sync/2011_09_26/2011_09_26_drive_0001_sync/velodyne_points/data/0000000000.bin \"\n",
    "\n",
    "pcd = o3d.io.read_point_cloud(pathToKITTI000)\n"
   ]
  },
  {
   "cell_type": "code",
   "execution_count": null,
   "metadata": {},
   "outputs": [],
   "source": [
    "basedir = '/your/dataset/dir'\n",
    "date = '2011_09_26'\n",
    "drive = '0019'\n",
    "\n",
    "# The 'frames' argument is optional - default: None, which loads the whole dataset.\n",
    "# Calibration, timestamps, and IMU data are read automatically. \n",
    "# Camera and velodyne data are available via properties that create generators\n",
    "# when accessed, or through getter methods that provide random access.\n",
    "data = pykitti.raw(basedir, date, drive, frames=range(0, 50, 5))"
   ]
  }
 ],
 "metadata": {
  "kernelspec": {
   "display_name": "Python 3",
   "language": "python",
   "name": "python3"
  },
  "language_info": {
   "codemirror_mode": {
    "name": "ipython",
    "version": 3
   },
   "file_extension": ".py",
   "mimetype": "text/x-python",
   "name": "python",
   "nbconvert_exporter": "python",
   "pygments_lexer": "ipython3",
   "version": "3.8.3"
  }
 },
 "nbformat": 4,
 "nbformat_minor": 4
}
