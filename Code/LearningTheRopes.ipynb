{
 "metadata": {
  "language_info": {
   "codemirror_mode": {
    "name": "ipython",
    "version": 3
   },
   "file_extension": ".py",
   "mimetype": "text/x-python",
   "name": "python",
   "nbconvert_exporter": "python",
   "pygments_lexer": "ipython3",
   "version": "3.8.3-final"
  },
  "orig_nbformat": 2,
  "kernelspec": {
   "name": "python3",
   "display_name": "Python 3"
  }
 },
 "nbformat": 4,
 "nbformat_minor": 2,
 "cells": [
  {
   "cell_type": "code",
   "execution_count": 26,
   "metadata": {},
   "outputs": [],
   "source": [
    "import open3d as o3d\n",
    "import cv2 as ocv\n",
    "import os\n",
    "\n",
    "\n",
    "\n",
    "\n",
    "# Importing a python kitti toolbox from https://github.com/utiasSTARS/pykitti\n",
    "import pykitti"
   ]
  },
  {
   "cell_type": "code",
   "execution_count": 19,
   "metadata": {
    "tags": []
   },
   "outputs": [
    {
     "output_type": "stream",
     "name": "stdout",
     "text": "['KITTI_cvlibs', 'ScemanticKITTI']\n['2011_09_26_drive_0001']\n['2011_09_26_calib', '2011_09_26_drive_0001_extract', '2011_09_26_drive_0001_sync', '2011_09_26_drive_0001_tracklets']\n['2011_09_26']\n[]\n['2011_09_26']\n['2011_09_26_drive_0001_extract']\n['image_01', 'image_02', 'image_00', 'velodyne_points', 'oxts', 'image_03']\n['data']\n[]\n['data']\n[]\n['data']\n[]\n['data']\n[]\n['data']\n[]\n['data']\n[]\n['2011_09_26']\n['2011_09_26_drive_0001_sync']\n['image_01', 'image_02', 'image_00', 'velodyne_points', 'oxts', 'image_03']\n['data']\n[]\n['data']\n[]\n['data']\n[]\n['data']\n[]\n['data']\n[]\n['data']\n[]\n['2011_09_26']\n['2011_09_26_drive_0001_sync']\n[]\n['dataset']\n['sequences']\n['10', '06', '12', '07', '15', '02', '18', '20', '13', '03', '19', '05', '04', '17', '08', '11', '21', '00', '09', '16', '14', '01']\n['labels']\n[]\n['labels']\n[]\n[]\n['labels']\n[]\n[]\n['labels']\n[]\n[]\n[]\n[]\n['labels']\n[]\n[]\n['labels']\n[]\n['labels']\n[]\n[]\n['labels']\n[]\n[]\n[]\n['labels']\n[]\n['labels']\n[]\n[]\n[]\n['labels']\n[]\n"
    }
   ],
   "source": [
    "currentPath = os.getcwd()\n",
    "folderPath = (currentPath[:currentPath.find(\"Code\")])\n",
    "for (dirpath, dirnames, filenames) in os.walk(folderPath+r\"/Datasets\"):\n",
    "    print(dirnames)\n"
   ]
  },
  {
   "cell_type": "code",
   "execution_count": 25,
   "metadata": {
    "tags": []
   },
   "outputs": [
    {
     "output_type": "stream",
     "name": "stdout",
     "text": "\u001b[1;33m[Open3D WARNING] Read geometry::PointCloud failed: unknown file extension.\u001b[0;m\n"
    }
   ],
   "source": [
    "pathToKITTI0001 = r\"../Datasets/KITTI_cvlibs/2011_09_26_drive_0001/2011_09_26_drive_0001_sync/2011_09_26/2011_09_26_drive_0001_sync/velodyne_points/data/0000000000.bin \"\n",
    "\n",
    "pcd = o3d.io.read_point_cloud(pathToKITTI0001)"
   ]
  }
 ]
}