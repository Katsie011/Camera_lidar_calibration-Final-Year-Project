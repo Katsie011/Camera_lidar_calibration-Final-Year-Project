{
 "cells": [
  {
   "cell_type": "code",
   "execution_count": 21,
   "metadata": {
    "ExecuteTime": {
     "end_time": "2020-11-06T07:16:08.586937Z",
     "start_time": "2020-11-06T07:16:08.574585Z"
    }
   },
   "outputs": [],
   "source": [
    "%matplotlib widget"
   ]
  },
  {
   "cell_type": "code",
   "execution_count": 22,
   "metadata": {
    "ExecuteTime": {
     "end_time": "2020-11-06T07:16:08.592891Z",
     "start_time": "2020-11-06T07:16:08.589057Z"
    }
   },
   "outputs": [],
   "source": [
    "import open3d as o3d\n",
    "import cv2 as ocv\n",
    "import os\n",
    "from matplotlib import pyplot as plt\n",
    "import numpy as np\n",
    "\n",
    "\n",
    "# Importing a python kitti toolbox from https://github.com/utiasSTARS/pykitti\n",
    "import pykitti"
   ]
  },
  {
   "cell_type": "code",
   "execution_count": 36,
   "metadata": {
    "ExecuteTime": {
     "end_time": "2020-11-06T07:18:29.189274Z",
     "start_time": "2020-11-06T07:18:29.186612Z"
    }
   },
   "outputs": [],
   "source": [
    "currentPath = os.getcwd()\n",
    "folderPath = (currentPath[:currentPath.find(\"Code\")])\n",
    "figpath = r\"../Writeup/Figures/\"\n",
    "\n",
    "# for (dirpath, dirnames, filenames) in os.walk(folderPath+r\"Datasets/\"):\n",
    "#     print(dirnames)"
   ]
  },
  {
   "cell_type": "code",
   "execution_count": 24,
   "metadata": {
    "ExecuteTime": {
     "end_time": "2020-11-06T07:16:08.612420Z",
     "start_time": "2020-11-06T07:16:08.604396Z"
    }
   },
   "outputs": [
    {
     "name": "stdout",
     "output_type": "stream",
     "text": [
      "Path to the datasets is:\n",
      "/home/michaelkatsoulis/Documents/UCT/2020 Semester 2/EEE4022S - Final Project/Datasets/2011_09_26_drive_0001_extract/\n"
     ]
    }
   ],
   "source": [
    "print(\"Path to the datasets is:\")\n",
    "print(folderPath+r\"Datasets/2011_09_26_drive_0001_extract/\")\n",
    "\n",
    "# May help to check if this is the right path on your machine."
   ]
  },
  {
   "cell_type": "markdown",
   "metadata": {},
   "source": [
    "## About the libraries used:\n",
    "I am using the pykitti library written by Lee Clement. <br>\n",
    "The information about the library is avalible at https://github.com/utiasSTARS/pykitti\n"
   ]
  },
  {
   "cell_type": "code",
   "execution_count": 25,
   "metadata": {
    "ExecuteTime": {
     "end_time": "2020-11-06T07:16:08.626060Z",
     "start_time": "2020-11-06T07:16:08.613445Z"
    }
   },
   "outputs": [],
   "source": [
    "# basedir = r\"../Datasets/KITTI_cvlibs/2011_09_26_drive_0001\"\n",
    "basedir = r\"/media/LinData/Datasets/KITTI_cvlibs/2011_09_26_drive_0001\"\n",
    "date = '2011_09_26'\n",
    "drive = '0001'\n",
    "data = pykitti.raw(basedir, date, drive, frames=range(0, 50, 5))\n",
    "# The 'frames' argument is optional - default: None, which loads the whole dataset.\n",
    "# Calibration, timestamps, and IMU data are read automatically. \n",
    "# Camera and velodyne data are available via properties that create generators\n",
    "# when accessed, or through getter methods that provide random access."
   ]
  },
  {
   "cell_type": "code",
   "execution_count": 26,
   "metadata": {
    "ExecuteTime": {
     "end_time": "2020-11-06T07:16:08.633756Z",
     "start_time": "2020-11-06T07:16:08.627826Z"
    }
   },
   "outputs": [
    {
     "data": {
      "text/plain": [
       "'\"\\n\\nIn case of error:\\n  - Check if the data is actually avalible at the correct base directory.\\n  - There should be a folder with the date in the directory.\\n  - In that folder (2011_09_26) there should be folders with the calibration, sync, tracklets and data for the drive recorded.\\n \\n'"
      ]
     },
     "execution_count": 26,
     "metadata": {},
     "output_type": "execute_result"
    }
   ],
   "source": [
    "def getPyKittiData():\n",
    "    import pykitti\n",
    "    basedir = r\"/media/LinData/Datasets/KITTI_cvlibs/2011_09_26_drive_0001\"\n",
    "    date = '2011_09_26'\n",
    "    drive = '0001'\n",
    "    data = pykitti.raw(basedir, date, drive, frames=range(0, 50, 5))\n",
    "    return pykitti.raw(basedir, date, drive, frames=range(0, 50, 5))\n",
    "\n",
    "\"\"\"\"\n",
    "\n",
    "In case of error:\n",
    "  - Check if the data is actually avalible at the correct base directory.\n",
    "  - There should be a folder with the date in the directory.\n",
    "  - In that folder (2011_09_26) there should be folders with the calibration, sync, tracklets and data for the drive recorded.\n",
    " \n",
    "\"\"\""
   ]
  },
  {
   "cell_type": "code",
   "execution_count": null,
   "metadata": {},
   "outputs": [],
   "source": []
  },
  {
   "cell_type": "markdown",
   "metadata": {},
   "source": [
    "## Time to explore the current configuration data:\n",
    " ---\n"
   ]
  },
  {
   "cell_type": "code",
   "execution_count": 27,
   "metadata": {
    "ExecuteTime": {
     "end_time": "2020-11-06T07:16:08.645244Z",
     "start_time": "2020-11-06T07:16:08.634866Z"
    }
   },
   "outputs": [],
   "source": [
    "# TODO\n",
    "# Find out what the different calibration objects represent.\n"
   ]
  },
  {
   "cell_type": "markdown",
   "metadata": {},
   "source": [
    "Now to start using the data and trying to display it.\n",
    "---\n"
   ]
  },
  {
   "cell_type": "code",
   "execution_count": 28,
   "metadata": {
    "ExecuteTime": {
     "end_time": "2020-11-06T07:16:08.657909Z",
     "start_time": "2020-11-06T07:16:08.646547Z"
    }
   },
   "outputs": [],
   "source": [
    "im_data = data.get_cam0(0)\n",
    "# The index used in data.get_cam0(index) is the time index"
   ]
  },
  {
   "cell_type": "code",
   "execution_count": 72,
   "metadata": {
    "ExecuteTime": {
     "end_time": "2020-11-06T08:19:14.928429Z",
     "start_time": "2020-11-06T08:19:14.339814Z"
    }
   },
   "outputs": [
    {
     "data": {
      "application/vnd.jupyter.widget-view+json": {
       "model_id": "5d716064bdac4aa08b33af96632ee94e",
       "version_major": 2,
       "version_minor": 0
      },
      "text/plain": [
       "Canvas(toolbar=Toolbar(toolitems=[('Home', 'Reset original view', 'home', 'home'), ('Back', 'Back to previous …"
      ]
     },
     "metadata": {},
     "output_type": "display_data"
    },
    {
     "data": {
      "application/vnd.jupyter.widget-view+json": {
       "model_id": "a617865b1f21454f8def018aaee3c409",
       "version_major": 2,
       "version_minor": 0
      },
      "text/plain": [
       "Canvas(toolbar=Toolbar(toolitems=[('Home', 'Reset original view', 'home', 'home'), ('Back', 'Back to previous …"
      ]
     },
     "metadata": {},
     "output_type": "display_data"
    }
   ],
   "source": [
    "rgbIms = data.get_rgb(1)\n",
    "\n",
    "\n",
    "\n",
    "\n",
    "fig_colour, ax1 = plt.subplots(1,1, figsize = (12,4.5))\n",
    "fig_colour.tight_layout(pad=1)\n",
    "\n",
    "ax1.imshow(rgbIms[0])\n",
    "ax1.set_title(\"Right RGB Camera (Cam2)\")\n",
    "\n",
    "# fig_colour.savefig(figpath+\"Cam2TError.png\")\n",
    "# rgbIms = data.get_rgb(5)\n",
    "fig_colour2, ax2 = plt.subplots(1,1, figsize = (12,4.5))\n",
    "fig_colour2.tight_layout(pad=1)\n",
    "ax2.imshow(rgbIms[1])\n",
    "ax2.set_title(\"Left RGB Camera (Cam3)\")\n",
    "# fig_colour2.savefig(figpath+\"Cam3TError.png\")\n"
   ]
  },
  {
   "cell_type": "code",
   "execution_count": null,
   "metadata": {},
   "outputs": [],
   "source": []
  },
  {
   "cell_type": "code",
   "execution_count": 38,
   "metadata": {
    "ExecuteTime": {
     "end_time": "2020-11-06T07:19:19.353866Z",
     "start_time": "2020-11-06T07:19:19.312513Z"
    }
   },
   "outputs": [
    {
     "data": {
      "application/vnd.jupyter.widget-view+json": {
       "model_id": "c491ae4c1a9e43abbcacd107c9ba90a7",
       "version_major": 2,
       "version_minor": 0
      },
      "text/plain": [
       "Canvas(toolbar=Toolbar(toolitems=[('Home', 'Reset original view', 'home', 'home'), ('Back', 'Back to previous …"
      ]
     },
     "metadata": {},
     "output_type": "display_data"
    }
   ],
   "source": [
    "velo_pts_1 = data.get_velo(1)\n",
    "\n",
    "\n",
    "f2 =  plt.figure(figsize=(18,10))\n",
    "ax2 = f2.add_subplot(111, projection='3d')\n",
    "# Plot every 100th point so things don't get too bogged down\n",
    "velo_range = range(0, velo_pts_1.shape[0], 5)\n",
    "ax2.scatter(velo_pts_1[velo_range, 0],\n",
    "            velo_pts_1[velo_range, 1],\n",
    "            velo_pts_1[velo_range, 2],\n",
    "            c=velo_pts_1[velo_range, 3],\n",
    "            cmap='gray')\n",
    "ax2.set_title('Third Velodyne scan (subsampled)')\n",
    "\n",
    "plt.show()"
   ]
  },
  {
   "cell_type": "code",
   "execution_count": 39,
   "metadata": {
    "ExecuteTime": {
     "end_time": "2020-11-06T07:19:42.012242Z",
     "start_time": "2020-11-06T07:19:41.998194Z"
    }
   },
   "outputs": [],
   "source": [
    "plt.close(\"all\")"
   ]
  },
  {
   "cell_type": "code",
   "execution_count": 91,
   "metadata": {
    "ExecuteTime": {
     "end_time": "2020-11-06T13:17:07.930898Z",
     "start_time": "2020-11-06T13:17:07.567493Z"
    }
   },
   "outputs": [
    {
     "data": {
      "application/vnd.jupyter.widget-view+json": {
       "model_id": "bf0cbb75dce84f9ea615e07aaca83e6f",
       "version_major": 2,
       "version_minor": 0
      },
      "text/plain": [
       "Canvas(toolbar=Toolbar(toolitems=[('Home', 'Reset original view', 'home', 'home'), ('Back', 'Back to previous …"
      ]
     },
     "metadata": {},
     "output_type": "display_data"
    }
   ],
   "source": [
    "# trying to plot only what's ahead\n",
    "\n",
    "# vel_infront_1 = velo_pts_1[(velo_pts_1[:,0]>=0) & (velo_pts_1[:,1]>=0),:]\n",
    "vel_infront_1 = velo_pts_1[(velo_pts_1[:,0]>=0),:]\n",
    "f3 = plt.figure(num=2, figsize=(15,6))\n",
    "ax3 = f3.add_subplot(111, projection='3d')\n",
    "f3.tight_layout(pad=3.0)\n",
    "# Plot every 100th point so things don't get too bogged down\n",
    "velo_range2 = range(0, vel_infront_1.shape[0], 5)\n",
    "ax3.scatter(vel_infront_1[velo_range2, 0],\n",
    "            vel_infront_1[velo_range2, 1],\n",
    "            vel_infront_1[velo_range2, 2],\n",
    "            c=vel_infront_1[velo_range2, 3])#,\n",
    "#             cmap='gray')\n",
    "ax3.set_title('Forwards facing Velodyne (subsampled to 1/5 of original density)', fontsize=18)\n",
    "ax3.set_xlabel('x-axis', fontsize=15)\n",
    "ax3.set_ylabel('y-axis', fontsize=15)\n",
    "ax3.set_zlabel('z-axis', fontsize=15)\n",
    "ax3.view_init(elev=22, azim= -158)\n",
    "ax3.set_zlim(-3, 10)\n",
    "# f3.savefig(figpath+\"rawForwardsVelodyne.png\")\n",
    "plt.show()"
   ]
  },
  {
   "cell_type": "code",
   "execution_count": 90,
   "metadata": {
    "ExecuteTime": {
     "end_time": "2020-11-06T13:17:06.615932Z",
     "start_time": "2020-11-06T13:17:06.613026Z"
    }
   },
   "outputs": [],
   "source": [
    "plt.close(\"all\")"
   ]
  },
  {
   "cell_type": "code",
   "execution_count": 14,
   "metadata": {
    "ExecuteTime": {
     "end_time": "2020-11-06T07:14:58.017933Z",
     "start_time": "2020-11-06T07:14:58.010709Z"
    }
   },
   "outputs": [],
   "source": []
  },
  {
   "cell_type": "markdown",
   "metadata": {},
   "source": []
  },
  {
   "cell_type": "code",
   "execution_count": null,
   "metadata": {},
   "outputs": [],
   "source": []
  },
  {
   "cell_type": "code",
   "execution_count": null,
   "metadata": {},
   "outputs": [],
   "source": []
  },
  {
   "cell_type": "markdown",
   "metadata": {},
   "source": [
    "# Building a GIF of the images when driving\n",
    "\n",
    "---\n",
    "Goal: Have a function that can be sent a set of image paths which will be used to make a GIF from the camera's images. \n",
    "\n",
    "Note:\n",
    "\n",
    "Needs ImageMagick as it's function that it's going to call on your machine."
   ]
  },
  {
   "cell_type": "code",
   "execution_count": 15,
   "metadata": {
    "ExecuteTime": {
     "end_time": "2020-11-06T07:14:58.027018Z",
     "start_time": "2020-11-06T07:14:58.019439Z"
    }
   },
   "outputs": [],
   "source": [
    "import glob\n",
    "import os\n"
   ]
  },
  {
   "cell_type": "code",
   "execution_count": 16,
   "metadata": {
    "ExecuteTime": {
     "end_time": "2020-11-06T07:14:58.128934Z",
     "start_time": "2020-11-06T07:14:58.028259Z"
    }
   },
   "outputs": [
    {
     "ename": "IndexError",
     "evalue": "list index out of range",
     "output_type": "error",
     "traceback": [
      "\u001b[0;31m---------------------------------------------------------------------------\u001b[0m",
      "\u001b[0;31mIndexError\u001b[0m                                Traceback (most recent call last)",
      "\u001b[0;32m<ipython-input-16-a9a508125b57>\u001b[0m in \u001b[0;36m<module>\u001b[0;34m\u001b[0m\n\u001b[1;32m      1\u001b[0m \u001b[0mgif_name\u001b[0m \u001b[0;34m=\u001b[0m \u001b[0;34m'outputName'\u001b[0m\u001b[0;34m\u001b[0m\u001b[0;34m\u001b[0m\u001b[0m\n\u001b[1;32m      2\u001b[0m \u001b[0mfile_list\u001b[0m \u001b[0;34m=\u001b[0m \u001b[0mglob\u001b[0m\u001b[0;34m.\u001b[0m\u001b[0mglob\u001b[0m\u001b[0;34m(\u001b[0m\u001b[0;34m'*.png'\u001b[0m\u001b[0;34m)\u001b[0m \u001b[0;31m# Get all the pngs in the current directory\u001b[0m\u001b[0;34m\u001b[0m\u001b[0;34m\u001b[0m\u001b[0m\n\u001b[0;32m----> 3\u001b[0;31m \u001b[0mlist\u001b[0m\u001b[0;34m.\u001b[0m\u001b[0msort\u001b[0m\u001b[0;34m(\u001b[0m\u001b[0mfile_list\u001b[0m\u001b[0;34m,\u001b[0m \u001b[0mkey\u001b[0m\u001b[0;34m=\u001b[0m\u001b[0;32mlambda\u001b[0m \u001b[0mx\u001b[0m\u001b[0;34m:\u001b[0m \u001b[0mint\u001b[0m\u001b[0;34m(\u001b[0m\u001b[0mx\u001b[0m\u001b[0;34m.\u001b[0m\u001b[0msplit\u001b[0m\u001b[0;34m(\u001b[0m\u001b[0;34m'_'\u001b[0m\u001b[0;34m)\u001b[0m\u001b[0;34m[\u001b[0m\u001b[0;36m1\u001b[0m\u001b[0;34m]\u001b[0m\u001b[0;34m.\u001b[0m\u001b[0msplit\u001b[0m\u001b[0;34m(\u001b[0m\u001b[0;34m'.png'\u001b[0m\u001b[0;34m)\u001b[0m\u001b[0;34m[\u001b[0m\u001b[0;36m0\u001b[0m\u001b[0;34m]\u001b[0m\u001b[0;34m)\u001b[0m\u001b[0;34m)\u001b[0m \u001b[0;31m# Sort the images by #, this may need to be tweaked for your use case\u001b[0m\u001b[0;34m\u001b[0m\u001b[0;34m\u001b[0m\u001b[0m\n\u001b[0m\u001b[1;32m      4\u001b[0m \u001b[0;34m\u001b[0m\u001b[0m\n\u001b[1;32m      5\u001b[0m \u001b[0;32mwith\u001b[0m \u001b[0mopen\u001b[0m\u001b[0;34m(\u001b[0m\u001b[0;34m'image_list.txt'\u001b[0m\u001b[0;34m,\u001b[0m \u001b[0;34m'w'\u001b[0m\u001b[0;34m)\u001b[0m \u001b[0;32mas\u001b[0m \u001b[0mfile\u001b[0m\u001b[0;34m:\u001b[0m\u001b[0;34m\u001b[0m\u001b[0;34m\u001b[0m\u001b[0m\n",
      "\u001b[0;32m<ipython-input-16-a9a508125b57>\u001b[0m in \u001b[0;36m<lambda>\u001b[0;34m(x)\u001b[0m\n\u001b[1;32m      1\u001b[0m \u001b[0mgif_name\u001b[0m \u001b[0;34m=\u001b[0m \u001b[0;34m'outputName'\u001b[0m\u001b[0;34m\u001b[0m\u001b[0;34m\u001b[0m\u001b[0m\n\u001b[1;32m      2\u001b[0m \u001b[0mfile_list\u001b[0m \u001b[0;34m=\u001b[0m \u001b[0mglob\u001b[0m\u001b[0;34m.\u001b[0m\u001b[0mglob\u001b[0m\u001b[0;34m(\u001b[0m\u001b[0;34m'*.png'\u001b[0m\u001b[0;34m)\u001b[0m \u001b[0;31m# Get all the pngs in the current directory\u001b[0m\u001b[0;34m\u001b[0m\u001b[0;34m\u001b[0m\u001b[0m\n\u001b[0;32m----> 3\u001b[0;31m \u001b[0mlist\u001b[0m\u001b[0;34m.\u001b[0m\u001b[0msort\u001b[0m\u001b[0;34m(\u001b[0m\u001b[0mfile_list\u001b[0m\u001b[0;34m,\u001b[0m \u001b[0mkey\u001b[0m\u001b[0;34m=\u001b[0m\u001b[0;32mlambda\u001b[0m \u001b[0mx\u001b[0m\u001b[0;34m:\u001b[0m \u001b[0mint\u001b[0m\u001b[0;34m(\u001b[0m\u001b[0mx\u001b[0m\u001b[0;34m.\u001b[0m\u001b[0msplit\u001b[0m\u001b[0;34m(\u001b[0m\u001b[0;34m'_'\u001b[0m\u001b[0;34m)\u001b[0m\u001b[0;34m[\u001b[0m\u001b[0;36m1\u001b[0m\u001b[0;34m]\u001b[0m\u001b[0;34m.\u001b[0m\u001b[0msplit\u001b[0m\u001b[0;34m(\u001b[0m\u001b[0;34m'.png'\u001b[0m\u001b[0;34m)\u001b[0m\u001b[0;34m[\u001b[0m\u001b[0;36m0\u001b[0m\u001b[0;34m]\u001b[0m\u001b[0;34m)\u001b[0m\u001b[0;34m)\u001b[0m \u001b[0;31m# Sort the images by #, this may need to be tweaked for your use case\u001b[0m\u001b[0;34m\u001b[0m\u001b[0;34m\u001b[0m\u001b[0m\n\u001b[0m\u001b[1;32m      4\u001b[0m \u001b[0;34m\u001b[0m\u001b[0m\n\u001b[1;32m      5\u001b[0m \u001b[0;32mwith\u001b[0m \u001b[0mopen\u001b[0m\u001b[0;34m(\u001b[0m\u001b[0;34m'image_list.txt'\u001b[0m\u001b[0;34m,\u001b[0m \u001b[0;34m'w'\u001b[0m\u001b[0;34m)\u001b[0m \u001b[0;32mas\u001b[0m \u001b[0mfile\u001b[0m\u001b[0;34m:\u001b[0m\u001b[0;34m\u001b[0m\u001b[0;34m\u001b[0m\u001b[0m\n",
      "\u001b[0;31mIndexError\u001b[0m: list index out of range"
     ]
    }
   ],
   "source": [
    "\n",
    "gif_name = 'outputName'\n",
    "file_list = glob.glob('*.png') # Get all the pngs in the current directory\n",
    "list.sort(file_list, key=lambda x: int(x.split('_')[1].split('.png')[0])) # Sort the images by #, this may need to be tweaked for your use case\n",
    "\n",
    "with open('image_list.txt', 'w') as file:\n",
    "    for item in file_list:\n",
    "        file.write(\"%s\\n\" % item)\n",
    "\n",
    "os.system('convert @image_list.txt {}.gif'.format(gif_name))"
   ]
  }
 ],
 "metadata": {
  "kernelspec": {
   "display_name": "Python 3",
   "language": "python",
   "name": "python3"
  },
  "language_info": {
   "codemirror_mode": {
    "name": "ipython",
    "version": 3
   },
   "file_extension": ".py",
   "mimetype": "text/x-python",
   "name": "python",
   "nbconvert_exporter": "python",
   "pygments_lexer": "ipython3",
   "version": "3.8.3"
  }
 },
 "nbformat": 4,
 "nbformat_minor": 4
}
